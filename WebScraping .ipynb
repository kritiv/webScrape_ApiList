{
 "cells": [
  {
   "cell_type": "markdown",
   "metadata": {},
   "source": [
    "# Web scrape the API list"
   ]
  },
  {
   "cell_type": "code",
   "execution_count": 4,
   "metadata": {},
   "outputs": [],
   "source": [
    "# Web scrape the API lists on this page, and export your result into a CSV file.\\\n",
    "# We will scrape 4 things\n",
    "# • API Name • API (absolute) URL • API Category • API Description\"\n",
    "\n",
    "\n",
    "import requests\n",
    "from bs4 import BeautifulSoup\n",
    "import pandas as pd"
   ]
  },
  {
   "cell_type": "code",
   "execution_count": 8,
   "metadata": {},
   "outputs": [
    {
     "name": "stdout",
     "output_type": "stream",
     "text": [
      "https://www.programmableweb.com/category/tools/api?pw_view_display_id=apis_all&page=62\n",
      "None\n",
      "Total Rows: 1553\n"
     ]
    }
   ],
   "source": [
    "url = 'https://www.programmableweb.com/category/tools/api'\n",
    "row_count = 0\n",
    "api_dic = {}\n",
    "\n",
    "while True:\n",
    "    response = requests.get(url)\n",
    "    soup = BeautifulSoup(response.text, 'html.parser')\n",
    "    table = soup.find(\"table\", { \"class\" : \"views-table cols-5 table\" }).find('tbody')\n",
    "    for row in table.findAll(\"tr\"):\n",
    "        row_count+=1\n",
    "        cells = row.findAll(\"td\")\n",
    "        name = cells[0].text\n",
    "        api_url = 'https://www.programmableweb.com' + cells[0].find('a').get('href')\n",
    "        description = cells[1].text\n",
    "        category = cells[2].text\n",
    "        api_dic[row_count] =[name, api_url, category, description]\n",
    "    url_tag = soup.find('li',{'class':'pager-next'}).find('a', {'id':'pager_id_apis_all'})\n",
    "    if url_tag:\n",
    "        url= 'https://www.programmableweb.com' + url_tag.get('href')\n",
    "        ##print(url)\n",
    "    else:\n",
    "        print(url)\n",
    "        print('None')\n",
    "        break\n",
    "        \n",
    "        \n",
    "print(\"Total Rows:\", row_count)\n",
    "api_df = pd.DataFrame.from_dict(api_dic, orient='index', columns=['API Name', 'URL', 'Category','Description'])\n",
    "\n",
    "api_df.head()\n",
    "#api_df.to_excel('data/ApiListt.xlsx')\n",
    "api_df.to_csv('data/ApiList.csv')\n"
   ]
  }
 ],
 "metadata": {
  "kernelspec": {
   "display_name": "Python 3",
   "language": "python",
   "name": "python3"
  },
  "language_info": {
   "codemirror_mode": {
    "name": "ipython",
    "version": 3
   },
   "file_extension": ".py",
   "mimetype": "text/x-python",
   "name": "python",
   "nbconvert_exporter": "python",
   "pygments_lexer": "ipython3",
   "version": "3.8.5"
  }
 },
 "nbformat": 4,
 "nbformat_minor": 4
}
